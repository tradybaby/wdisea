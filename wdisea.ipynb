{
 "cells": [
  {
   "cell_type": "markdown",
   "metadata": {},
   "source": [
    "# World Development Indicators in Southeast Asia"
   ]
  },
  {
   "cell_type": "markdown",
   "metadata": {},
   "source": [
    "Name: Elena Lisa Monika Gaggia\n",
    "\n",
    "Student ID: 12023845\n",
    "\n",
    "Course: 0581 Data and Knowledge Engineering"
   ]
  },
  {
   "cell_type": "markdown",
   "metadata": {},
   "source": [
    "### Introduction\n",
    "In recent decades, the economic situation in Southeast Asia (SEA) has changed drastically. Through modernisation, many countries have managed to become stronger established economies with relatively high standards of living. Many different World Development Indicators (WDI) have contributed to this, which have been recorded by the World Bank (https://data.worldbank.org).\n",
    "\n",
    "In my analysis, I limit myself to the analysis of access to electricity, compared to GDP per capita in US dollars and the Human Development Index (HDI) in the year 2020. The first two key factors were extracted from the World Bank database and were exported as a CSV file. The Human Development Index is filtered out by a SPARQL query in DBPedia."
   ]
  },
  {
   "cell_type": "markdown",
   "metadata": {},
   "source": [
    "### Create world map using Folium library"
   ]
  },
  {
   "cell_type": "markdown",
   "metadata": {},
   "source": [
    "Even though this is not necessary for the project, I first plot all the countries in Southeast Asia on a world map for visualisation purposes. For this I use Folium, a library that allows me to create interactive maps. By clicking on the tiles, the name of the country is displayed."
   ]
  },
  {
   "cell_type": "code",
   "execution_count": 1,
   "metadata": {},
   "outputs": [
    {
     "name": "stdout",
     "output_type": "stream",
     "text": [
      "Requirement already satisfied: folium in /opt/conda/lib/python3.8/site-packages (0.14.0)\n",
      "Requirement already satisfied: requests in /opt/conda/lib/python3.8/site-packages (from folium) (2.24.0)\n",
      "Requirement already satisfied: jinja2>=2.9 in /opt/conda/lib/python3.8/site-packages (from folium) (2.11.2)\n",
      "Requirement already satisfied: numpy in /opt/conda/lib/python3.8/site-packages (from folium) (1.24.1)\n",
      "Requirement already satisfied: branca>=0.6.0 in /opt/conda/lib/python3.8/site-packages (from folium) (0.6.0)\n",
      "Requirement already satisfied: urllib3!=1.25.0,!=1.25.1,<1.26,>=1.21.1 in /opt/conda/lib/python3.8/site-packages (from requests->folium) (1.25.10)\n",
      "Requirement already satisfied: certifi>=2017.4.17 in /opt/conda/lib/python3.8/site-packages (from requests->folium) (2020.6.20)\n",
      "Requirement already satisfied: chardet<4,>=3.0.2 in /opt/conda/lib/python3.8/site-packages (from requests->folium) (3.0.4)\n",
      "Requirement already satisfied: idna<3,>=2.5 in /opt/conda/lib/python3.8/site-packages (from requests->folium) (2.10)\n",
      "Requirement already satisfied: MarkupSafe>=0.23 in /opt/conda/lib/python3.8/site-packages (from jinja2>=2.9->folium) (1.1.1)\n",
      "Note: you may need to restart the kernel to use updated packages.\n"
     ]
    }
   ],
   "source": [
    "pip install folium"
   ]
  },
  {
   "cell_type": "code",
   "execution_count": 2,
   "metadata": {},
   "outputs": [
    {
     "data": {
      "text/html": [
       "<div style=\"width:100%;\"><div style=\"position:relative;width:100%;height:0;padding-bottom:60%;\"><span style=\"color:#565656\">Make this Notebook Trusted to load map: File -> Trust Notebook</span><iframe srcdoc=\"&lt;!DOCTYPE html&gt;\n",
       "&lt;html&gt;\n",
       "&lt;head&gt;\n",
       "    \n",
       "    &lt;meta http-equiv=&quot;content-type&quot; content=&quot;text/html; charset=UTF-8&quot; /&gt;\n",
       "    \n",
       "        &lt;script&gt;\n",
       "            L_NO_TOUCH = false;\n",
       "            L_DISABLE_3D = false;\n",
       "        &lt;/script&gt;\n",
       "    \n",
       "    &lt;style&gt;html, body {width: 100%;height: 100%;margin: 0;padding: 0;}&lt;/style&gt;\n",
       "    &lt;style&gt;#map {position:absolute;top:0;bottom:0;right:0;left:0;}&lt;/style&gt;\n",
       "    &lt;script src=&quot;https://cdn.jsdelivr.net/npm/leaflet@1.9.3/dist/leaflet.js&quot;&gt;&lt;/script&gt;\n",
       "    &lt;script src=&quot;https://code.jquery.com/jquery-1.12.4.min.js&quot;&gt;&lt;/script&gt;\n",
       "    &lt;script src=&quot;https://cdn.jsdelivr.net/npm/bootstrap@5.2.2/dist/js/bootstrap.bundle.min.js&quot;&gt;&lt;/script&gt;\n",
       "    &lt;script src=&quot;https://cdnjs.cloudflare.com/ajax/libs/Leaflet.awesome-markers/2.0.2/leaflet.awesome-markers.js&quot;&gt;&lt;/script&gt;\n",
       "    &lt;link rel=&quot;stylesheet&quot; href=&quot;https://cdn.jsdelivr.net/npm/leaflet@1.9.3/dist/leaflet.css&quot;/&gt;\n",
       "    &lt;link rel=&quot;stylesheet&quot; href=&quot;https://cdn.jsdelivr.net/npm/bootstrap@5.2.2/dist/css/bootstrap.min.css&quot;/&gt;\n",
       "    &lt;link rel=&quot;stylesheet&quot; href=&quot;https://netdna.bootstrapcdn.com/bootstrap/3.0.0/css/bootstrap.min.css&quot;/&gt;\n",
       "    &lt;link rel=&quot;stylesheet&quot; href=&quot;https://cdn.jsdelivr.net/npm/@fortawesome/fontawesome-free@6.2.0/css/all.min.css&quot;/&gt;\n",
       "    &lt;link rel=&quot;stylesheet&quot; href=&quot;https://cdnjs.cloudflare.com/ajax/libs/Leaflet.awesome-markers/2.0.2/leaflet.awesome-markers.css&quot;/&gt;\n",
       "    &lt;link rel=&quot;stylesheet&quot; href=&quot;https://cdn.jsdelivr.net/gh/python-visualization/folium/folium/templates/leaflet.awesome.rotate.min.css&quot;/&gt;\n",
       "    \n",
       "            &lt;meta name=&quot;viewport&quot; content=&quot;width=device-width,\n",
       "                initial-scale=1.0, maximum-scale=1.0, user-scalable=no&quot; /&gt;\n",
       "            &lt;style&gt;\n",
       "                #map_72a19c46d959a8c223a9b71e6622dd25 {\n",
       "                    position: relative;\n",
       "                    width: 100.0%;\n",
       "                    height: 100.0%;\n",
       "                    left: 0.0%;\n",
       "                    top: 0.0%;\n",
       "                }\n",
       "                .leaflet-container { font-size: 1rem; }\n",
       "            &lt;/style&gt;\n",
       "        \n",
       "&lt;/head&gt;\n",
       "&lt;body&gt;\n",
       "    \n",
       "    \n",
       "            &lt;div class=&quot;folium-map&quot; id=&quot;map_72a19c46d959a8c223a9b71e6622dd25&quot; &gt;&lt;/div&gt;\n",
       "        \n",
       "&lt;/body&gt;\n",
       "&lt;script&gt;\n",
       "    \n",
       "    \n",
       "            var map_72a19c46d959a8c223a9b71e6622dd25 = L.map(\n",
       "                &quot;map_72a19c46d959a8c223a9b71e6622dd25&quot;,\n",
       "                {\n",
       "                    center: [2.218, 115.6628],\n",
       "                    crs: L.CRS.EPSG3857,\n",
       "                    zoom: 4,\n",
       "                    zoomControl: true,\n",
       "                    preferCanvas: false,\n",
       "                }\n",
       "            );\n",
       "\n",
       "            \n",
       "\n",
       "        \n",
       "    \n",
       "            var tile_layer_ba1130a111d4a7310649f83271fdb910 = L.tileLayer(\n",
       "                &quot;https://stamen-tiles-{s}.a.ssl.fastly.net/toner/{z}/{x}/{y}.png&quot;,\n",
       "                {&quot;attribution&quot;: &quot;Map tiles by \\u003ca target=\\&quot;_blank\\&quot; href=\\&quot;http://stamen.com\\&quot;\\u003eStamen Design\\u003c/a\\u003e, under \\u003ca target=\\&quot;_blank\\&quot; href=\\&quot;http://creativecommons.org/licenses/by/3.0\\&quot;\\u003eCC BY 3.0\\u003c/a\\u003e. Data by \\u0026copy; \\u003ca target=\\&quot;_blank\\&quot; href=\\&quot;http://openstreetmap.org\\&quot;\\u003eOpenStreetMap\\u003c/a\\u003e, under \\u003ca target=\\&quot;_blank\\&quot; href=\\&quot;http://www.openstreetmap.org/copyright\\&quot;\\u003eODbL\\u003c/a\\u003e.&quot;, &quot;detectRetina&quot;: false, &quot;maxNativeZoom&quot;: 18, &quot;maxZoom&quot;: 18, &quot;minZoom&quot;: 0, &quot;noWrap&quot;: false, &quot;opacity&quot;: 1, &quot;subdomains&quot;: &quot;abc&quot;, &quot;tms&quot;: false}\n",
       "            ).addTo(map_72a19c46d959a8c223a9b71e6622dd25);\n",
       "        \n",
       "    \n",
       "            var marker_fffbd896926f6e39d1663d18f9479ba7 = L.marker(\n",
       "                [0.7893, 113.9213],\n",
       "                {}\n",
       "            ).addTo(map_72a19c46d959a8c223a9b71e6622dd25);\n",
       "        \n",
       "    \n",
       "        var popup_8898124ac021c719772761a3430fd81f = L.popup({&quot;maxWidth&quot;: &quot;100%&quot;});\n",
       "\n",
       "        \n",
       "            \n",
       "                var html_f70ac0006954d199e9fdbff3afae0c68 = $(`&lt;div id=&quot;html_f70ac0006954d199e9fdbff3afae0c68&quot; style=&quot;width: 100.0%; height: 100.0%;&quot;&gt;&lt;i&gt;Indonesia&lt;/i&gt;&lt;/div&gt;`)[0];\n",
       "                popup_8898124ac021c719772761a3430fd81f.setContent(html_f70ac0006954d199e9fdbff3afae0c68);\n",
       "            \n",
       "        \n",
       "\n",
       "        marker_fffbd896926f6e39d1663d18f9479ba7.bindPopup(popup_8898124ac021c719772761a3430fd81f)\n",
       "        ;\n",
       "\n",
       "        \n",
       "    \n",
       "    \n",
       "            var marker_deb1c92ce2c9deeb8f7ebb71d3cae27f = L.marker(\n",
       "                [1.3521, 103.8198],\n",
       "                {}\n",
       "            ).addTo(map_72a19c46d959a8c223a9b71e6622dd25);\n",
       "        \n",
       "    \n",
       "        var popup_ff4a861d65cced08a423c3fa94511f1b = L.popup({&quot;maxWidth&quot;: &quot;100%&quot;});\n",
       "\n",
       "        \n",
       "            \n",
       "                var html_be92a56373340c384104fc9645da001d = $(`&lt;div id=&quot;html_be92a56373340c384104fc9645da001d&quot; style=&quot;width: 100.0%; height: 100.0%;&quot;&gt;&lt;i&gt;Singapore&lt;/i&gt;&lt;/div&gt;`)[0];\n",
       "                popup_ff4a861d65cced08a423c3fa94511f1b.setContent(html_be92a56373340c384104fc9645da001d);\n",
       "            \n",
       "        \n",
       "\n",
       "        marker_deb1c92ce2c9deeb8f7ebb71d3cae27f.bindPopup(popup_ff4a861d65cced08a423c3fa94511f1b)\n",
       "        ;\n",
       "\n",
       "        \n",
       "    \n",
       "    \n",
       "            var marker_811dd55a956d495de1d9a1849e6e9c48 = L.marker(\n",
       "                [15.87, 100.9925],\n",
       "                {}\n",
       "            ).addTo(map_72a19c46d959a8c223a9b71e6622dd25);\n",
       "        \n",
       "    \n",
       "        var popup_3f4b32185def72833cee625798be09c0 = L.popup({&quot;maxWidth&quot;: &quot;100%&quot;});\n",
       "\n",
       "        \n",
       "            \n",
       "                var html_bcfec001bc3f00e68bf5aded6eb0c8fb = $(`&lt;div id=&quot;html_bcfec001bc3f00e68bf5aded6eb0c8fb&quot; style=&quot;width: 100.0%; height: 100.0%;&quot;&gt;&lt;i&gt;Thailand&lt;/i&gt;&lt;/div&gt;`)[0];\n",
       "                popup_3f4b32185def72833cee625798be09c0.setContent(html_bcfec001bc3f00e68bf5aded6eb0c8fb);\n",
       "            \n",
       "        \n",
       "\n",
       "        marker_811dd55a956d495de1d9a1849e6e9c48.bindPopup(popup_3f4b32185def72833cee625798be09c0)\n",
       "        ;\n",
       "\n",
       "        \n",
       "    \n",
       "    \n",
       "            var marker_634d798a783199f6aa5a0f6bfc64df9e = L.marker(\n",
       "                [14.0583, 108.2772],\n",
       "                {}\n",
       "            ).addTo(map_72a19c46d959a8c223a9b71e6622dd25);\n",
       "        \n",
       "    \n",
       "        var popup_5cafbebf234b66792875dd0e4bbb2cab = L.popup({&quot;maxWidth&quot;: &quot;100%&quot;});\n",
       "\n",
       "        \n",
       "            \n",
       "                var html_229e66770305193e0da00ee428e1e5ee = $(`&lt;div id=&quot;html_229e66770305193e0da00ee428e1e5ee&quot; style=&quot;width: 100.0%; height: 100.0%;&quot;&gt;&lt;i&gt;Vietnam&lt;/i&gt;&lt;/div&gt;`)[0];\n",
       "                popup_5cafbebf234b66792875dd0e4bbb2cab.setContent(html_229e66770305193e0da00ee428e1e5ee);\n",
       "            \n",
       "        \n",
       "\n",
       "        marker_634d798a783199f6aa5a0f6bfc64df9e.bindPopup(popup_5cafbebf234b66792875dd0e4bbb2cab)\n",
       "        ;\n",
       "\n",
       "        \n",
       "    \n",
       "    \n",
       "            var marker_d6dc6ed472295835d96db444c0425534 = L.marker(\n",
       "                [12.5657, 104.991],\n",
       "                {}\n",
       "            ).addTo(map_72a19c46d959a8c223a9b71e6622dd25);\n",
       "        \n",
       "    \n",
       "        var popup_3cdc752bf2d000e60b01e7320c8db3f3 = L.popup({&quot;maxWidth&quot;: &quot;100%&quot;});\n",
       "\n",
       "        \n",
       "            \n",
       "                var html_b73c1fb6ec640fdd061b1c99687517e8 = $(`&lt;div id=&quot;html_b73c1fb6ec640fdd061b1c99687517e8&quot; style=&quot;width: 100.0%; height: 100.0%;&quot;&gt;&lt;i&gt;Cambodia&lt;/i&gt;&lt;/div&gt;`)[0];\n",
       "                popup_3cdc752bf2d000e60b01e7320c8db3f3.setContent(html_b73c1fb6ec640fdd061b1c99687517e8);\n",
       "            \n",
       "        \n",
       "\n",
       "        marker_d6dc6ed472295835d96db444c0425534.bindPopup(popup_3cdc752bf2d000e60b01e7320c8db3f3)\n",
       "        ;\n",
       "\n",
       "        \n",
       "    \n",
       "    \n",
       "            var marker_c8fee4fdb4b97b6ab8a705200636a193 = L.marker(\n",
       "                [12.8797, 121.774],\n",
       "                {}\n",
       "            ).addTo(map_72a19c46d959a8c223a9b71e6622dd25);\n",
       "        \n",
       "    \n",
       "        var popup_3a0b8689b2a6b8da4061df710d499eca = L.popup({&quot;maxWidth&quot;: &quot;100%&quot;});\n",
       "\n",
       "        \n",
       "            \n",
       "                var html_810e7c1a067d11b483092cbad51ab325 = $(`&lt;div id=&quot;html_810e7c1a067d11b483092cbad51ab325&quot; style=&quot;width: 100.0%; height: 100.0%;&quot;&gt;&lt;i&gt;Philippines&lt;/i&gt;&lt;/div&gt;`)[0];\n",
       "                popup_3a0b8689b2a6b8da4061df710d499eca.setContent(html_810e7c1a067d11b483092cbad51ab325);\n",
       "            \n",
       "        \n",
       "\n",
       "        marker_c8fee4fdb4b97b6ab8a705200636a193.bindPopup(popup_3a0b8689b2a6b8da4061df710d499eca)\n",
       "        ;\n",
       "\n",
       "        \n",
       "    \n",
       "    \n",
       "            var marker_a84be665260b85036584127e5b024384 = L.marker(\n",
       "                [4.2105, 101.9758],\n",
       "                {}\n",
       "            ).addTo(map_72a19c46d959a8c223a9b71e6622dd25);\n",
       "        \n",
       "    \n",
       "        var popup_d43afcf3e46e7e2651529060a1d51293 = L.popup({&quot;maxWidth&quot;: &quot;100%&quot;});\n",
       "\n",
       "        \n",
       "            \n",
       "                var html_61688748bb0d45d1e88f54912bf62779 = $(`&lt;div id=&quot;html_61688748bb0d45d1e88f54912bf62779&quot; style=&quot;width: 100.0%; height: 100.0%;&quot;&gt;&lt;i&gt;Malaysia&lt;/i&gt;&lt;/div&gt;`)[0];\n",
       "                popup_d43afcf3e46e7e2651529060a1d51293.setContent(html_61688748bb0d45d1e88f54912bf62779);\n",
       "            \n",
       "        \n",
       "\n",
       "        marker_a84be665260b85036584127e5b024384.bindPopup(popup_d43afcf3e46e7e2651529060a1d51293)\n",
       "        ;\n",
       "\n",
       "        \n",
       "    \n",
       "    \n",
       "            var marker_03fe32bf0da7d3ca7cab4e37eeda8558 = L.marker(\n",
       "                [19.8563, 102.4955],\n",
       "                {}\n",
       "            ).addTo(map_72a19c46d959a8c223a9b71e6622dd25);\n",
       "        \n",
       "    \n",
       "        var popup_fa1e594f46c28ce4c9985a7f05cfeb7f = L.popup({&quot;maxWidth&quot;: &quot;100%&quot;});\n",
       "\n",
       "        \n",
       "            \n",
       "                var html_6cb3b620fd369c1633a643569a13158c = $(`&lt;div id=&quot;html_6cb3b620fd369c1633a643569a13158c&quot; style=&quot;width: 100.0%; height: 100.0%;&quot;&gt;&lt;i&gt;Laos&lt;/i&gt;&lt;/div&gt;`)[0];\n",
       "                popup_fa1e594f46c28ce4c9985a7f05cfeb7f.setContent(html_6cb3b620fd369c1633a643569a13158c);\n",
       "            \n",
       "        \n",
       "\n",
       "        marker_03fe32bf0da7d3ca7cab4e37eeda8558.bindPopup(popup_fa1e594f46c28ce4c9985a7f05cfeb7f)\n",
       "        ;\n",
       "\n",
       "        \n",
       "    \n",
       "    \n",
       "            var marker_c17ff298fd32165630636ff1316ea77b = L.marker(\n",
       "                [21.9162, 95.956],\n",
       "                {}\n",
       "            ).addTo(map_72a19c46d959a8c223a9b71e6622dd25);\n",
       "        \n",
       "    \n",
       "        var popup_480e3ca0857599beabeaa91bf1fa3c43 = L.popup({&quot;maxWidth&quot;: &quot;100%&quot;});\n",
       "\n",
       "        \n",
       "            \n",
       "                var html_e96c7cad01620a5ddf9bf0a39f6fd90c = $(`&lt;div id=&quot;html_e96c7cad01620a5ddf9bf0a39f6fd90c&quot; style=&quot;width: 100.0%; height: 100.0%;&quot;&gt;&lt;i&gt;Myanmar&lt;/i&gt;&lt;/div&gt;`)[0];\n",
       "                popup_480e3ca0857599beabeaa91bf1fa3c43.setContent(html_e96c7cad01620a5ddf9bf0a39f6fd90c);\n",
       "            \n",
       "        \n",
       "\n",
       "        marker_c17ff298fd32165630636ff1316ea77b.bindPopup(popup_480e3ca0857599beabeaa91bf1fa3c43)\n",
       "        ;\n",
       "\n",
       "        \n",
       "    \n",
       "    \n",
       "            var marker_8c9387436ef635c8225eab322310b7d8 = L.marker(\n",
       "                [4.5353, 114.7277],\n",
       "                {}\n",
       "            ).addTo(map_72a19c46d959a8c223a9b71e6622dd25);\n",
       "        \n",
       "    \n",
       "        var popup_8b641017ff101e6fdb045e2c1b999328 = L.popup({&quot;maxWidth&quot;: &quot;100%&quot;});\n",
       "\n",
       "        \n",
       "            \n",
       "                var html_6b2c8b10d7f9cc8c5f10f676e94cea2a = $(`&lt;div id=&quot;html_6b2c8b10d7f9cc8c5f10f676e94cea2a&quot; style=&quot;width: 100.0%; height: 100.0%;&quot;&gt;&lt;i&gt;Brunei&lt;/i&gt;&lt;/div&gt;`)[0];\n",
       "                popup_8b641017ff101e6fdb045e2c1b999328.setContent(html_6b2c8b10d7f9cc8c5f10f676e94cea2a);\n",
       "            \n",
       "        \n",
       "\n",
       "        marker_8c9387436ef635c8225eab322310b7d8.bindPopup(popup_8b641017ff101e6fdb045e2c1b999328)\n",
       "        ;\n",
       "\n",
       "        \n",
       "    \n",
       "    \n",
       "            var marker_111fa55c588c7e03f7bbf3c26253f4e5 = L.marker(\n",
       "                [8.8742, 125.7275],\n",
       "                {}\n",
       "            ).addTo(map_72a19c46d959a8c223a9b71e6622dd25);\n",
       "        \n",
       "    \n",
       "        var popup_1ca05cb3b61685eab7fbf868887db6a5 = L.popup({&quot;maxWidth&quot;: &quot;100%&quot;});\n",
       "\n",
       "        \n",
       "            \n",
       "                var html_06a826690bf47b570bee5b3eaec07bd2 = $(`&lt;div id=&quot;html_06a826690bf47b570bee5b3eaec07bd2&quot; style=&quot;width: 100.0%; height: 100.0%;&quot;&gt;&lt;i&gt;East Timor&lt;/i&gt;&lt;/div&gt;`)[0];\n",
       "                popup_1ca05cb3b61685eab7fbf868887db6a5.setContent(html_06a826690bf47b570bee5b3eaec07bd2);\n",
       "            \n",
       "        \n",
       "\n",
       "        marker_111fa55c588c7e03f7bbf3c26253f4e5.bindPopup(popup_1ca05cb3b61685eab7fbf868887db6a5)\n",
       "        ;\n",
       "\n",
       "        \n",
       "    \n",
       "&lt;/script&gt;\n",
       "&lt;/html&gt;\" style=\"position:absolute;width:100%;height:100%;left:0;top:0;border:none !important;\" allowfullscreen webkitallowfullscreen mozallowfullscreen></iframe></div></div>"
      ],
      "text/plain": [
       "<folium.folium.Map at 0x7f9dd4778190>"
      ]
     },
     "execution_count": 2,
     "metadata": {},
     "output_type": "execute_result"
    }
   ],
   "source": [
    "import folium\n",
    "\n",
    "m = folium.Map(location=[2.2180, 115.6628], tiles = 'Stamen Toner', zoom_start = 4)\n",
    "\n",
    "folium.Marker([0.7893, 113.9213], popup = '<i>Indonesia</i>').add_to(m)\n",
    "folium.Marker([1.3521, 103.8198], popup = '<i>Singapore</i>').add_to(m)\n",
    "folium.Marker([15.8700, 100.9925], popup = '<i>Thailand</i>').add_to(m)\n",
    "folium.Marker([14.0583, 108.2772], popup = '<i>Vietnam</i>').add_to(m)\n",
    "folium.Marker([12.5657, 104.9910], popup = '<i>Cambodia</i>').add_to(m)\n",
    "folium.Marker([12.8797, 121.7740], popup = '<i>Philippines</i>').add_to(m)\n",
    "folium.Marker([4.2105, 101.9758], popup = '<i>Malaysia</i>').add_to(m)\n",
    "folium.Marker([19.8563, 102.4955], popup = '<i>Laos</i>').add_to(m)\n",
    "folium.Marker([21.9162, 95.9560], popup = '<i>Myanmar</i>').add_to(m)\n",
    "folium.Marker([4.5353, 114.7277], popup = '<i>Brunei</i>').add_to(m)\n",
    "folium.Marker([8.8742, 125.7275], popup = '<i>East Timor</i>').add_to(m)\n",
    "m"
   ]
  },
  {
   "cell_type": "markdown",
   "metadata": {},
   "source": [
    "### Import CSV file from World Bank dataset"
   ]
  },
  {
   "cell_type": "markdown",
   "metadata": {},
   "source": [
    "\"[The] World Development Indicators (WDI) [database] is the primary World Bank collection of development indicators, compiled from officially recognized international sources. It presents the most current and accurate global development data available, and includes national, regional and global estimates.\" (Source: https://databank.worldbank.org/home.aspx)\n",
    "\n",
    "In order to access the data, I make a preselection on the website for the countries, the desired indices and the desired year. I can then download the data as a CSV, which I then uploaded to my GitHub page.\n",
    "\n",
    "In the following step, the program downloads the CSV file from GitHub and saves it as a new file in the register. Then it loads the SQL extension and creates a database. It then drops the country table and loads the CSV data into the database. The result can then be seen in the output.\n",
    "\n",
    "In the next steps I access the data on access to electricity. The data on GDP per capita will be accessed later."
   ]
  },
  {
   "cell_type": "code",
   "execution_count": 3,
   "metadata": {},
   "outputs": [],
   "source": [
    "import requests\n",
    "\n",
    "r = requests.get('https://raw.githubusercontent.com/tradybaby/wdisea/main/access_to_electricity_sea_2020.csv')\n",
    "f = open('wdi_sea_electr.csv', 'wb')\n",
    "f.write(r.content)\n",
    "f.close()"
   ]
  },
  {
   "cell_type": "code",
   "execution_count": 4,
   "metadata": {},
   "outputs": [],
   "source": [
    "%load_ext sql"
   ]
  },
  {
   "cell_type": "code",
   "execution_count": 5,
   "metadata": {},
   "outputs": [],
   "source": [
    "%sql sqlite:///wdi_sea.db"
   ]
  },
  {
   "cell_type": "code",
   "execution_count": 6,
   "metadata": {},
   "outputs": [
    {
     "name": "stdout",
     "output_type": "stream",
     "text": [
      "Requirement already satisfied: pandas in /opt/conda/lib/python3.8/site-packages (1.5.2)\n",
      "Requirement already satisfied: numpy>=1.20.3; python_version < \"3.10\" in /opt/conda/lib/python3.8/site-packages (from pandas) (1.24.1)\n",
      "Requirement already satisfied: python-dateutil>=2.8.1 in /opt/conda/lib/python3.8/site-packages (from pandas) (2.8.1)\n",
      "Requirement already satisfied: pytz>=2020.1 in /opt/conda/lib/python3.8/site-packages (from pandas) (2022.7)\n",
      "Requirement already satisfied: six>=1.5 in /opt/conda/lib/python3.8/site-packages (from python-dateutil>=2.8.1->pandas) (1.15.0)\n",
      "Note: you may need to restart the kernel to use updated packages.\n"
     ]
    }
   ],
   "source": [
    "pip install pandas"
   ]
  },
  {
   "cell_type": "code",
   "execution_count": 7,
   "metadata": {},
   "outputs": [],
   "source": [
    "import sqlite3 \n",
    "import pandas  \n",
    "conn = sqlite3.connect('wdi_sea.db')"
   ]
  },
  {
   "cell_type": "code",
   "execution_count": 8,
   "metadata": {},
   "outputs": [
    {
     "name": "stdout",
     "output_type": "stream",
     "text": [
      " * sqlite:///wdi_sea.db\n",
      "Done.\n"
     ]
    },
    {
     "data": {
      "text/plain": [
       "[]"
      ]
     },
     "execution_count": 8,
     "metadata": {},
     "output_type": "execute_result"
    }
   ],
   "source": [
    "%%sql\n",
    "\n",
    "drop table if exists country;"
   ]
  },
  {
   "cell_type": "code",
   "execution_count": 9,
   "metadata": {},
   "outputs": [
    {
     "data": {
      "text/plain": [
       "16"
      ]
     },
     "execution_count": 9,
     "metadata": {},
     "output_type": "execute_result"
    }
   ],
   "source": [
    "pandas.read_csv('wdi_sea_electr.csv').to_sql('wdi_sea', conn, index = False)"
   ]
  },
  {
   "cell_type": "code",
   "execution_count": 10,
   "metadata": {},
   "outputs": [
    {
     "name": "stdout",
     "output_type": "stream",
     "text": [
      " * sqlite:///wdi_sea.db\n",
      "Done.\n"
     ]
    },
    {
     "data": {
      "text/html": [
       "<table>\n",
       "    <tr>\n",
       "        <th>Country Name</th>\n",
       "        <th>Country Code</th>\n",
       "        <th>Series Name</th>\n",
       "        <th>Series Code</th>\n",
       "        <th>2020 [YR2020]</th>\n",
       "    </tr>\n",
       "    <tr>\n",
       "        <td>Indonesia</td>\n",
       "        <td>IDN</td>\n",
       "        <td>Access to electricity (% of population)</td>\n",
       "        <td>EG.ELC.ACCS.ZS</td>\n",
       "        <td>96.9499969482422</td>\n",
       "    </tr>\n",
       "    <tr>\n",
       "        <td>Singapore</td>\n",
       "        <td>SGP</td>\n",
       "        <td>Access to electricity (% of population)</td>\n",
       "        <td>EG.ELC.ACCS.ZS</td>\n",
       "        <td>100.0</td>\n",
       "    </tr>\n",
       "    <tr>\n",
       "        <td>Thailand</td>\n",
       "        <td>THA</td>\n",
       "        <td>Access to electricity (% of population)</td>\n",
       "        <td>EG.ELC.ACCS.ZS</td>\n",
       "        <td>100.0</td>\n",
       "    </tr>\n",
       "    <tr>\n",
       "        <td>Vietnam</td>\n",
       "        <td>VNM</td>\n",
       "        <td>Access to electricity (% of population)</td>\n",
       "        <td>EG.ELC.ACCS.ZS</td>\n",
       "        <td>100.0</td>\n",
       "    </tr>\n",
       "    <tr>\n",
       "        <td>Cambodia</td>\n",
       "        <td>KHM</td>\n",
       "        <td>Access to electricity (% of population)</td>\n",
       "        <td>EG.ELC.ACCS.ZS</td>\n",
       "        <td>86.4000015258789</td>\n",
       "    </tr>\n",
       "    <tr>\n",
       "        <td>Philippines</td>\n",
       "        <td>PHL</td>\n",
       "        <td>Access to electricity (% of population)</td>\n",
       "        <td>EG.ELC.ACCS.ZS</td>\n",
       "        <td>96.8423843383789</td>\n",
       "    </tr>\n",
       "    <tr>\n",
       "        <td>Malaysia</td>\n",
       "        <td>MYS</td>\n",
       "        <td>Access to electricity (% of population)</td>\n",
       "        <td>EG.ELC.ACCS.ZS</td>\n",
       "        <td>100.0</td>\n",
       "    </tr>\n",
       "    <tr>\n",
       "        <td>Laos</td>\n",
       "        <td>LAO</td>\n",
       "        <td>Access to electricity (% of population)</td>\n",
       "        <td>EG.ELC.ACCS.ZS</td>\n",
       "        <td>100.0</td>\n",
       "    </tr>\n",
       "    <tr>\n",
       "        <td>Myanmar</td>\n",
       "        <td>MMR</td>\n",
       "        <td>Access to electricity (% of population)</td>\n",
       "        <td>EG.ELC.ACCS.ZS</td>\n",
       "        <td>70.3971939086914</td>\n",
       "    </tr>\n",
       "    <tr>\n",
       "        <td>Brunei</td>\n",
       "        <td>BRN</td>\n",
       "        <td>Access to electricity (% of population)</td>\n",
       "        <td>EG.ELC.ACCS.ZS</td>\n",
       "        <td>100.0</td>\n",
       "    </tr>\n",
       "    <tr>\n",
       "        <td>East Timor</td>\n",
       "        <td>TLS</td>\n",
       "        <td>Access to electricity (% of population)</td>\n",
       "        <td>EG.ELC.ACCS.ZS</td>\n",
       "        <td>96.1233139038086</td>\n",
       "    </tr>\n",
       "    <tr>\n",
       "        <td>None</td>\n",
       "        <td>None</td>\n",
       "        <td>None</td>\n",
       "        <td>None</td>\n",
       "        <td>None</td>\n",
       "    </tr>\n",
       "    <tr>\n",
       "        <td>None</td>\n",
       "        <td>None</td>\n",
       "        <td>None</td>\n",
       "        <td>None</td>\n",
       "        <td>None</td>\n",
       "    </tr>\n",
       "    <tr>\n",
       "        <td>None</td>\n",
       "        <td>None</td>\n",
       "        <td>None</td>\n",
       "        <td>None</td>\n",
       "        <td>None</td>\n",
       "    </tr>\n",
       "    <tr>\n",
       "        <td>Data from database: World Development Indicators</td>\n",
       "        <td>None</td>\n",
       "        <td>None</td>\n",
       "        <td>None</td>\n",
       "        <td>None</td>\n",
       "    </tr>\n",
       "    <tr>\n",
       "        <td>Last Updated: 12/22/2022</td>\n",
       "        <td>None</td>\n",
       "        <td>None</td>\n",
       "        <td>None</td>\n",
       "        <td>None</td>\n",
       "    </tr>\n",
       "</table>"
      ],
      "text/plain": [
       "[('Indonesia', 'IDN', 'Access to electricity (% of population)', 'EG.ELC.ACCS.ZS', 96.9499969482422),\n",
       " ('Singapore', 'SGP', 'Access to electricity (% of population)', 'EG.ELC.ACCS.ZS', 100.0),\n",
       " ('Thailand', 'THA', 'Access to electricity (% of population)', 'EG.ELC.ACCS.ZS', 100.0),\n",
       " ('Vietnam', 'VNM', 'Access to electricity (% of population)', 'EG.ELC.ACCS.ZS', 100.0),\n",
       " ('Cambodia', 'KHM', 'Access to electricity (% of population)', 'EG.ELC.ACCS.ZS', 86.4000015258789),\n",
       " ('Philippines', 'PHL', 'Access to electricity (% of population)', 'EG.ELC.ACCS.ZS', 96.8423843383789),\n",
       " ('Malaysia', 'MYS', 'Access to electricity (% of population)', 'EG.ELC.ACCS.ZS', 100.0),\n",
       " ('Laos', 'LAO', 'Access to electricity (% of population)', 'EG.ELC.ACCS.ZS', 100.0),\n",
       " ('Myanmar', 'MMR', 'Access to electricity (% of population)', 'EG.ELC.ACCS.ZS', 70.3971939086914),\n",
       " ('Brunei', 'BRN', 'Access to electricity (% of population)', 'EG.ELC.ACCS.ZS', 100.0),\n",
       " ('East Timor', 'TLS', 'Access to electricity (% of population)', 'EG.ELC.ACCS.ZS', 96.1233139038086),\n",
       " (None, None, None, None, None),\n",
       " (None, None, None, None, None),\n",
       " (None, None, None, None, None),\n",
       " ('Data from database: World Development Indicators', None, None, None, None),\n",
       " ('Last Updated: 12/22/2022', None, None, None, None)]"
      ]
     },
     "execution_count": 10,
     "metadata": {},
     "output_type": "execute_result"
    }
   ],
   "source": [
    "%%sql\n",
    "\n",
    "select * from wdi_sea;"
   ]
  },
  {
   "cell_type": "markdown",
   "metadata": {},
   "source": [
    "### Graphical analysis"
   ]
  },
  {
   "cell_type": "markdown",
   "metadata": {},
   "source": [
    "To put the data in context and make it easier to interpret, I start with a graphical representation of the data. As we know from our data and can see in the graph in Singapore, Thailand, Vietnam, Malaysia, Laos and Brunei 100% of the population have access to electricity.\n",
    "In Indonesia, Cambodia, the Philippines and East Timor the electricity supply is also pretty good. Only in Myanmar it is rather low with only 70%"
   ]
  },
  {
   "cell_type": "code",
   "execution_count": 11,
   "metadata": {},
   "outputs": [
    {
     "name": "stdout",
     "output_type": "stream",
     "text": [
      "Requirement already satisfied: matplotlib in /opt/conda/lib/python3.8/site-packages (3.6.2)\n",
      "Requirement already satisfied: packaging>=20.0 in /opt/conda/lib/python3.8/site-packages (from matplotlib) (20.4)\n",
      "Requirement already satisfied: kiwisolver>=1.0.1 in /opt/conda/lib/python3.8/site-packages (from matplotlib) (1.4.4)\n",
      "Requirement already satisfied: numpy>=1.19 in /opt/conda/lib/python3.8/site-packages (from matplotlib) (1.24.1)\n",
      "Requirement already satisfied: python-dateutil>=2.7 in /opt/conda/lib/python3.8/site-packages (from matplotlib) (2.8.1)\n",
      "Requirement already satisfied: pyparsing>=2.2.1 in /opt/conda/lib/python3.8/site-packages (from matplotlib) (2.4.7)\n",
      "Requirement already satisfied: cycler>=0.10 in /opt/conda/lib/python3.8/site-packages (from matplotlib) (0.11.0)\n",
      "Requirement already satisfied: contourpy>=1.0.1 in /opt/conda/lib/python3.8/site-packages (from matplotlib) (1.0.6)\n",
      "Requirement already satisfied: fonttools>=4.22.0 in /opt/conda/lib/python3.8/site-packages (from matplotlib) (4.38.0)\n",
      "Requirement already satisfied: pillow>=6.2.0 in /opt/conda/lib/python3.8/site-packages (from matplotlib) (9.3.0)\n",
      "Requirement already satisfied: six in /opt/conda/lib/python3.8/site-packages (from packaging>=20.0->matplotlib) (1.15.0)\n",
      "Note: you may need to restart the kernel to use updated packages.\n"
     ]
    }
   ],
   "source": [
    "pip install matplotlib"
   ]
  },
  {
   "cell_type": "code",
   "execution_count": 12,
   "metadata": {},
   "outputs": [
    {
     "data": {
      "image/png": "[encoded data removed]",
      "text/plain": [
       "<Figure size 2160x720 with 1 Axes>"
      ]
     },
     "metadata": {
      "needs_background": "light"
     },
     "output_type": "display_data"
    }
   ],
   "source": [
    "%matplotlib inline\n",
    "import matplotlib.pyplot as plt\n",
    "import numpy as np\n",
    "import pandas as pd\n",
    "\n",
    "\n",
    "data = pd.read_csv('https://raw.githubusercontent.com/tradybaby/wdisea/main/access_to_electricity_sea_2020.csv')\n",
    "df = pd.DataFrame(data)\n",
    "\n",
    "sorted_df = df.sort_values(by=['2020 [YR2020]'], ascending=False)\n",
    "sorted_df_head = sorted_df.head(11)\n",
    "\n",
    "X = list(sorted_df_head.iloc[:, 0])\n",
    "Y = list(sorted_df_head.iloc[:, 4])\n",
    "\n",
    "plt.rcParams['figure.figsize'] = (30, 10)\n",
    "plt.bar(X, Y, color='black')\n",
    "plt.title('Access to electricity in Southeast Asia in 2020', fontsize = 30)\n",
    "plt.xlabel('Country', fontsize = 25)\n",
    "plt.ylabel('Access to electricity (%of population)', fontsize = 25)\n",
    "plt.xticks(rotation = 90, fontsize = 20)\n",
    "plt.yticks(fontsize = 20)\n",
    "plt.show()"
   ]
  },
  {
   "cell_type": "markdown",
   "metadata": {},
   "source": [
    "### Access data from DBPedia"
   ]
  },
  {
   "cell_type": "markdown",
   "metadata": {},
   "source": [
    "In order to be able to better assess the situation, data on the Human Development Index should now be used.\n",
    "\n",
    "\"The Human Development Index (HDI) is a statistic composite index of life expectancy, education (mean years of schooling completed and expected years of schooling upon entering the education system), and per capita income indicators, which is used to rank countries into four tiers of human development. A country scores a higher level of HDI when the lifespan is higher, the education level is higher, and the gross national income GNI (PPP) per capita is higher.\" (Source: https://en.wikipedia.org/wiki/Human_Development_Index)\n",
    "\n",
    "This data can be found in DBPedia. With a SPARQL query, it can be loaded directly into the Jupyter Notebook. The program extracts all available data on countries, their total population and the HDI.\n",
    "\n",
    "To do this the program loads the SPARQLWrapper package to execute the query. The country name has a filter to only allow the English names of the country to avoid multiple entries from other languages. The program outputs the result of the query in a JSON format."
   ]
  },
  {
   "cell_type": "code",
   "execution_count": 13,
   "metadata": {},
   "outputs": [
    {
     "name": "stdout",
     "output_type": "stream",
     "text": [
      "Requirement already satisfied: SPARQLWrapper in /opt/conda/lib/python3.8/site-packages (2.0.0)\n",
      "Requirement already satisfied: rdflib>=6.1.1 in /opt/conda/lib/python3.8/site-packages (from SPARQLWrapper) (6.2.0)\n",
      "Requirement already satisfied: pyparsing in /opt/conda/lib/python3.8/site-packages (from rdflib>=6.1.1->SPARQLWrapper) (2.4.7)\n",
      "Requirement already satisfied: setuptools in /opt/conda/lib/python3.8/site-packages (from rdflib>=6.1.1->SPARQLWrapper) (49.6.0.post20200917)\n",
      "Requirement already satisfied: isodate in /opt/conda/lib/python3.8/site-packages (from rdflib>=6.1.1->SPARQLWrapper) (0.6.1)\n",
      "Requirement already satisfied: six in /opt/conda/lib/python3.8/site-packages (from isodate->rdflib>=6.1.1->SPARQLWrapper) (1.15.0)\n",
      "Note: you may need to restart the kernel to use updated packages.\n"
     ]
    }
   ],
   "source": [
    "pip install SPARQLWrapper"
   ]
  },
  {
   "cell_type": "code",
   "execution_count": 14,
   "metadata": {},
   "outputs": [],
   "source": [
    "from SPARQLWrapper import SPARQLWrapper, JSON, CSV"
   ]
  },
  {
   "cell_type": "code",
   "execution_count": 15,
   "metadata": {},
   "outputs": [],
   "source": [
    "sparql = SPARQLWrapper('http://dbpedia.org/sparql')"
   ]
  },
  {
   "cell_type": "code",
   "execution_count": 16,
   "metadata": {},
   "outputs": [],
   "source": [
    "sparql.setQuery(\"\"\"\n",
    "SELECT ?country ?hdi\n",
    "    WHERE { \n",
    "    ?place rdf:type dbo:Country .\n",
    "    ?place rdfs:label ?country .\n",
    "    filter(lang(?country) = 'en')\n",
    "    ?place dbp:hdi ?hdi .\n",
    "    }\n",
    "    LIMIT 5000\n",
    "\"\"\")"
   ]
  },
  {
   "cell_type": "code",
   "execution_count": 17,
   "metadata": {},
   "outputs": [],
   "source": [
    "sparql.setReturnFormat(JSON)"
   ]
  },
  {
   "cell_type": "code",
   "execution_count": 18,
   "metadata": {},
   "outputs": [],
   "source": [
    "countries = sparql.query().convert()"
   ]
  },
  {
   "cell_type": "markdown",
   "metadata": {},
   "source": [
    "To display the results in a nicer way, they can be displayed as a HTML table. To do this, the program imports the display package and creates a table with the desired header and adds each row (country, population and HDI) with a for loop."
   ]
  },
  {
   "cell_type": "code",
   "execution_count": 19,
   "metadata": {},
   "outputs": [
    {
     "data": {
      "text/html": [
       "<table><h4>Country, Population and Human Development Index</h4><table>\n",
       "<tr><td>Andean Community<td>0.781<tr><td>Andorra<td>0.868<tr><td>Uruguay<td>0.817<tr><td>Uzbekistan<td>0.72<tr><td>Vanuatu<td>0.609<tr><td>Venezuela<td>0.711<tr><td>Vietnam<td>0.704<tr><td>Wales<td>0.901<tr><td>Democratic Republic of Afghanistan<td>0.316<tr><td>Democratic Republic of the Congo<td>0.48<tr><td>Denmark<td>0.94<tr><td>Djibouti<td>0.524<tr><td>National Reorganization Process<td>0.665<tr><td>Albania<td>0.795<tr><td>Algeria<td>0.748<tr><td>Australia<td>0.944<tr><td>Austria<td>0.922<tr><td>Autonomous Region of Bougainville<td>0.595<tr><td>Azerbaijan<td>0.756<tr><td>Belarus<td>0.823<tr><td>Belgium<td>0.931<tr><td>Belize<td>0.716<tr><td>Benin<td>0.545<tr><td>Bhutan<td>0.654<tr><td>France<td>0.901<tr><td>Gabon<td>0.703<tr><td>Georgia (country)<td>0.812<tr><td>Haiti<td>0.51<tr><td>Saint Kitts and Nevis<td>0.779<tr><td>Saint Lucia<td>0.759<tr><td>Saint Vincent and the Grenadines<td>0.738<tr><td>Samoa<td>0.715<tr><td>San Marino<td>0.875<tr><td>Syria<td>0.567<tr><td>São Tomé and Príncipe<td>0.625<tr><td>Taiwan<td>0.916<tr><td>Tajikistan<td>0.668<tr><td>Tanzania<td>0.529<tr><td>West Herzegovina Canton<td>0.812<tr><td>Western Asia<td>0.699<tr><td>Angola<td>0.581<tr><td>Antigua and Barbuda<td>0.778<tr><td>Arab Maghreb Union<td>0.715<tr><td>Arabian Peninsula<td>high<tr><td>Arabian Peninsula<td>0.788<tr><td>Argentina<td>0.845<tr><td>Armenia<td>0.776<tr><td>Armenian Soviet Socialist Republic<td>0.648<tr><td>Equatorial Guinea<td>0.592<tr><td>Eritrea<td>0.459<tr><td>Estado Novo (Portugal)<td>0.653<tr><td>Estonia<td>0.892<tr><td>Eswatini<td>0.611<tr><td>Ethiopia<td>0.485<tr><td>Europe<td>0.845<tr><td>European Union<td>0.911<tr><td>Germany<td>0.947<tr><td>Ghana<td>0.611<tr><td>Gibraltar<td>0.961<tr><td>Marshall Islands<td>0.704<tr><td>Poland<td>0.88<tr><td>Polish People's Republic<td>0.91<tr><td>Portugal<td>0.864<tr><td>Posavina Canton<td>0.747<tr><td>Prince Edward Island<td>0.924<tr><td>Thailand<td>0.777<tr><td>The Bahamas<td>0.814<tr><td>Uganda<td>0.544<tr><td>Ukraine<td>0.779<tr><td>Ukrainian Soviet Socialist Republic<td>0.725<tr><td>United Arab Emirates<td>0.89<tr><td>United Kingdom<td>0.932<tr><td>United States<td>0.926<tr><td>United States Virgin Islands<td>0.894<tr><td>Una-Sana Canton<td>0.76<tr><td>Bosnia and Herzegovina<td>0.78<tr><td>Botswana<td>0.735<tr><td>Brazil<td>0.765<tr><td>British Columbia<td>0.938<tr><td>British Hong Kong<td>0.808<tr><td>Brunei<td>0.838<tr><td>Jamaica<td>0.734<tr><td>Japan<td>0.919<tr><td>Kazakh Soviet Socialist Republic<td>0.684<tr><td>Kazakhstan<td>0.825<tr><td>Kenya<td>0.601<tr><td>Mauritania<td>0.546<tr><td>Mauritius<td>0.804<tr><td>Mercosur<td>0.788<tr><td>Republic of Ireland<td>0.955<tr><td>Republic of Venezuela<td>0.674<tr><td>Republic of the Congo<td>0.574<tr><td>The Gambia<td>0.496<tr><td>The Pacific Pumas<td>0.784<tr><td>ABC islands (Leeward Antilles)<td>0.833<tr><td>ASEAN<td>0.723<tr><td>North Macedonia<td>0.774<tr><td>Northern Ireland<td>0.899<tr><td>Northwest Territories<td>0.908<tr><td>Norway<td>0.957<tr><td>Nunavut<td>0.908<tr><td>Civic-military dictatorship of Uruguay<td>0.658<tr><td>Colombia<td>0.767<tr><td>Commonwealth of Independent States<td>0.74<tr><td>Comoros<td>0.554<tr><td>Jordan<td>0.729<tr><td>Saudi Arabia<td>0.854<tr><td>Scotland<td>0.925<tr><td>Senegal<td>0.512<tr><td>Serbia<td>0.806<tr><td>Serbia and Montenegro<td>0.725<tr><td>Ba'athist Iraq<td>0.603<tr><td>Bahrain<td>0.852<tr><td>Bailiwick of Guernsey<td>0.975<tr><td>Bangladesh<td>0.632<tr><td>Barbados<td>0.814<tr><td>Iran<td>0.783<tr><td>Iraq<td>0.674<tr><td>Islamic Republic of Afghanistan<td>0.511<tr><td>Isle of Man<td>0.849<tr><td>Israel<td>0.919<tr><td>Italy<td>0.892<tr><td>Ivory Coast<td>0.538<tr><td>Moldavian Soviet Socialist Republic<td>0.68<tr><td>Moldova<td>0.75<tr><td>Mongolia<td>0.737<tr><td>Mongolian People's Republic<td>0.56<tr><td>Montenegro<td>0.829<tr><td>Morocco<td>0.686<tr><td>Mozambique<td>0.456<tr><td>Myanmar<td>0.583<tr><td>Nakhchivan Autonomous Republic<td>0.772<tr><td>Namibia<td>0.646<tr><td>Tonga<td>0.725<tr><td>Trinidad and Tobago<td>0.796<tr><td>Tunisia<td>0.74<tr><td>Turkey<td>0.82<tr><td>Turkmenistan<td>0.715<tr><td>Adjara<td>0.781<tr><td>Afghanistan<td>0.511<tr><td>African Union<td>0.577<tr><td>Bulgaria<td>0.816<tr><td>Burkina Faso<td>0.452<tr><td>Burundi<td>0.433<tr><td>Cambodia<td>0.594<tr><td>Cameroon<td>0.563<tr><td>Canada<td>0.929<tr><td>Cayman Islands<td>0.888<tr><td>Central African Republic<td>0.397<tr><td>Central Asia<td>0.779<tr><td>Central Bosnia Canton<td>0.774<tr><td>Chad<td>0.398<tr><td>Chile<td>0.851<tr><td>China<td>0.761<tr><td>Sudan<td>0.51<tr><td>Suriname<td>0.738<tr><td>Sweden<td>0.945<tr><td>Switzerland<td>0.955<tr><td>Canton 10<td>0.74<tr><td>Cape Verde<td>0.665<tr><td>Caribbean Community<td>0.73<tr><td>History of Germany (1990–present)<td>0.947<tr><td>History of Libya under Muammar Gaddafi<td>0.847<tr><td>History of Russia (1991–present)<td>0.92<tr><td>History of Rwanda<td>0.192<tr><td>History of the Islamic Republic of Iran<td>0.783<tr><td>History of the Philippines (1986–present)<td>0.718<tr><td>Honduras<td>0.632<tr><td>Hong Kong<td>0.949<tr><td>Laos<td>0.613<tr><td>Latvia<td>0.866<tr><td>Lebanon<td>0.744<tr><td>Dominica<td>0.742<tr><td>Dominican Republic<td>0.756<tr><td>Singapore<td>0.938<tr><td>Slovakia<td>0.86<tr><td>Slovenia<td>0.917<tr><td>Socialist Federal Republic of Yugoslavia<td>0.913<tr><td>Socialist Republic of Croatia<td>0.672<tr><td>Socialist Republic of Romania<td>0.863<tr><td>Socialist Republic of Serbia<td>0.719<tr><td>Socialist Republic of Slovenia<td>0.772<tr><td>Socialist Republic of the Union of Burma<td>0.328<tr><td>Solomon Islands<td>0.567<tr><td>Somalia<td>0.361<tr><td>South Africa<td>0.709<tr><td>South Asia<td>0.641<tr><td>South Korea<td>0.916<tr><td>South Sudan<td>0.433<tr><td>South West State of Somalia<td>0.2<tr><td>Southeast Asia<td>0.723<tr><td>Southern African Customs Union<td>0.7<tr><td>Costa Rica<td>0.81<tr><td>Croatia<td>0.851<tr><td>Cuba<td>0.783<tr><td>Cuba under Fidel Castro<td>0.698<tr><td>Curaçao<td>0.811<tr><td>Cyprus<td>0.887<tr><td>Czech Republic<td>0.9<tr><td>Czechoslovak Socialist Republic<td>0.931<tr><td>Czechoslovakia<td>0.81<tr><td>Greece<td>0.888<tr><td>Greenland<td>0.786<tr><td>Grenada<td>0.779<tr><td>Guam<td>0.901<tr><td>Guatemala<td>0.663<tr><td>Guinea<td>0.477<tr><td>Guinea-Bissau<td>0.48<tr><td>Gulf Cooperation Council<td>0.84<tr><td>Guyana<td>0.682<tr><td>Herzegovina-Neretva Canton<td>0.8<tr><td>Hirshabelle State<td>0.3<tr><td>History of Bolivia (1964–1982)<td>0.494<tr><td>History of Brazil (1985–present)<td>0.765<tr><td>Macau<td>0.922<tr><td>Madagascar<td>0.528<tr><td>Malawi<td>0.483<tr><td>Malaysia<td>0.81<tr><td>Maldives<td>0.74<tr><td>Mali<td>0.434<tr><td>Malta<td>0.895<tr><td>Falkland Islands<td>0.874<tr><td>Faroe Islands<td>0.95<tr><td>Federated States of Micronesia<td>0.62<tr><td>Fifth Republic of Venezuela<td>0.761<tr><td>Fiji<td>0.743<tr><td>Finland<td>0.938<tr><td>Jersey<td>0.985<tr><td>Lesotho<td>0.527<tr><td>Liberia<td>0.48<tr><td>Libya<td>0.724<tr><td>Liechtenstein<td>0.919<tr><td>Nepal<td>0.602<tr><td>Netherlands<td>0.944<tr><td>Nevis<td>0.825<tr><td>New Zealand<td>0.931<tr><td>Newfoundland and Labrador<td>0.894<tr><td>Nicaragua<td>0.66<tr><td>Niger<td>0.394<tr><td>Nigeria<td>0.539<tr><td>People's Republic of Bulgaria<td>0.918<tr><td>People's Republic of Mozambique<td>0.227<tr><td>People's Socialist Republic of Albania<td>0.79<tr><td>Peru<td>0.777<tr><td>Philippines<td>0.718<tr><td>Puerto Rico<td>0.845<tr><td>Qatar<td>0.848<tr><td>Third Hellenic Republic<td>0.888<tr><td>Third Portuguese Republic<td>0.843<tr><td>Togo<td>0.515<tr><td>Yemen<td>0.47<tr><td>East African Community<td>0.54<tr><td>East African Federation<td>0.509<tr><td>East Germany<td>0.953<tr><td>East Timor<td>0.606<tr><td>Economy of Germany<td>0.869<tr><td>Economy of Germany<td>0.947<tr><td>Economy of Germany<td><tr><td>Ecuador<td>0.759<tr><td>Egypt<td>0.707<tr><td>El Salvador<td>0.673<tr><td>Luxembourg<td>0.916<tr><td>Oman<td>0.813<tr><td>Organisation of Islamic Cooperation<td>0.672<tr><td>Seychelles<td>0.796<tr><td>Sierra Leone<td>0.452<tr><td>Soviet Union<td>0.92<tr><td>Spain<td>0.904<tr><td>Sri Lanka<td>0.782<tr><td>State Peace and Development Council<td>0.526<tr><td>State of Palestine<td>0.708<tr><td>Parva Domus<td>0.94<tr><td>Bolivia<td>0.718<tr><td>Hungarian People's Republic<td>0.915<tr><td>Hungary<td>0.854<tr><td>Iceland<td>0.949<tr><td>Index of Soviet Union–related articles<td>0.92<tr><td>India<td>0.645<tr><td>Indonesia<td>0.718<tr><td>Kirghiz Soviet Socialist Republic<td>0.64<tr><td>Kiribati<td>0.63<tr><td>Kosovo<td>0.742<tr><td>Kuwait<td>0.806<tr><td>Kyrgyzstan<td>0.697<tr><td>Lithuania<td>0.882<tr><td>Mexico<td>0.779<tr><td>Military dictatorship in Brazil<td>0.545<tr><td>Military dictatorship of Chile (1973–1990)<td>0.64<tr><td>Pacific Islands Forum<td>0.753<tr><td>Pakistan<td>0.557<tr><td>Palau<td>0.826<tr><td>Palestinian territories<td>0.645<tr><td>Panama<td>0.815<tr><td>Papua New Guinea<td>0.555<tr><td>Paraguay<td>0.728<tr><td>Romania<td>0.828<tr><td>Russia<td>0.824<tr><td>Rwanda<td>0.543<tr><td>Yukon<td>0.924<tr><td>Zaire<td>0.294<tr><td>Zambia<td>0.584<tr><td>Zanzibar<td>0.72<tr><td>Zimbabwe<td>0.571</table>"
      ],
      "text/plain": [
       "<IPython.core.display.HTML object>"
      ]
     },
     "metadata": {},
     "output_type": "display_data"
    }
   ],
   "source": [
    "from IPython.display import HTML, display\n",
    "\n",
    "tab = '<table>'\n",
    "tab += '<h4>Country, Population and Human Development Index</h4><table>\\n'\n",
    "for res in countries['results']['bindings']:\n",
    "    tab += '<tr><td>%s<td>%s' % (res['country']['value'],\n",
    "                                 res['hdi']['value'])\n",
    "display(HTML(tab+'</table>'))"
   ]
  },
  {
   "cell_type": "markdown",
   "metadata": {},
   "source": [
    "The results are now inserted into a table in order to later combine it with the table containing data about the access to electricity. In order to do this, the following function inserts the individual results as rows into a table."
   ]
  },
  {
   "cell_type": "code",
   "execution_count": 20,
   "metadata": {},
   "outputs": [],
   "source": [
    "f = open('wdi_sea_hdi.csv', 'w')\n",
    "f.write('country;hdi\\n')\n",
    "for res in countries['results']['bindings']:\n",
    "    f.write(res['country']['value'] + ';' + res['hdi']['value'] + '\\n')\n",
    "f.close()"
   ]
  },
  {
   "cell_type": "code",
   "execution_count": 21,
   "metadata": {},
   "outputs": [
    {
     "name": "stdout",
     "output_type": "stream",
     "text": [
      " * sqlite:///wdi_sea.db\n",
      "Done.\n"
     ]
    },
    {
     "data": {
      "text/plain": [
       "[]"
      ]
     },
     "execution_count": 21,
     "metadata": {},
     "output_type": "execute_result"
    }
   ],
   "source": [
    "%%sql\n",
    "\n",
    "drop table if exists hdi;"
   ]
  },
  {
   "cell_type": "code",
   "execution_count": 22,
   "metadata": {},
   "outputs": [
    {
     "data": {
      "text/plain": [
       "303"
      ]
     },
     "execution_count": 22,
     "metadata": {},
     "output_type": "execute_result"
    }
   ],
   "source": [
    "pandas.read_csv('wdi_sea_hdi.csv', delimiter=\";\").to_sql('hdi', conn, index = False)"
   ]
  },
  {
   "cell_type": "code",
   "execution_count": 23,
   "metadata": {},
   "outputs": [
    {
     "name": "stdout",
     "output_type": "stream",
     "text": [
      " * sqlite:///wdi_sea.db\n",
      "Done.\n"
     ]
    },
    {
     "data": {
      "text/html": [
       "<table>\n",
       "    <tr>\n",
       "        <th>country</th>\n",
       "        <th>hdi</th>\n",
       "    </tr>\n",
       "    <tr>\n",
       "        <td>Andean Community</td>\n",
       "        <td>0.781</td>\n",
       "    </tr>\n",
       "    <tr>\n",
       "        <td>Andorra</td>\n",
       "        <td>0.868</td>\n",
       "    </tr>\n",
       "    <tr>\n",
       "        <td>Uruguay</td>\n",
       "        <td>0.817</td>\n",
       "    </tr>\n",
       "    <tr>\n",
       "        <td>Uzbekistan</td>\n",
       "        <td>0.72</td>\n",
       "    </tr>\n",
       "    <tr>\n",
       "        <td>Vanuatu</td>\n",
       "        <td>0.609</td>\n",
       "    </tr>\n",
       "    <tr>\n",
       "        <td>Venezuela</td>\n",
       "        <td>0.711</td>\n",
       "    </tr>\n",
       "    <tr>\n",
       "        <td>Vietnam</td>\n",
       "        <td>0.704</td>\n",
       "    </tr>\n",
       "    <tr>\n",
       "        <td>Wales</td>\n",
       "        <td>0.901</td>\n",
       "    </tr>\n",
       "    <tr>\n",
       "        <td>Democratic Republic of Afghanistan</td>\n",
       "        <td>0.316</td>\n",
       "    </tr>\n",
       "    <tr>\n",
       "        <td>Democratic Republic of the Congo</td>\n",
       "        <td>0.48</td>\n",
       "    </tr>\n",
       "    <tr>\n",
       "        <td>Denmark</td>\n",
       "        <td>0.94</td>\n",
       "    </tr>\n",
       "    <tr>\n",
       "        <td>Djibouti</td>\n",
       "        <td>0.524</td>\n",
       "    </tr>\n",
       "    <tr>\n",
       "        <td>National Reorganization Process</td>\n",
       "        <td>0.665</td>\n",
       "    </tr>\n",
       "    <tr>\n",
       "        <td>Albania</td>\n",
       "        <td>0.795</td>\n",
       "    </tr>\n",
       "    <tr>\n",
       "        <td>Algeria</td>\n",
       "        <td>0.748</td>\n",
       "    </tr>\n",
       "    <tr>\n",
       "        <td>Australia</td>\n",
       "        <td>0.944</td>\n",
       "    </tr>\n",
       "    <tr>\n",
       "        <td>Austria</td>\n",
       "        <td>0.922</td>\n",
       "    </tr>\n",
       "    <tr>\n",
       "        <td>Autonomous Region of Bougainville</td>\n",
       "        <td>0.595</td>\n",
       "    </tr>\n",
       "    <tr>\n",
       "        <td>Azerbaijan</td>\n",
       "        <td>0.756</td>\n",
       "    </tr>\n",
       "    <tr>\n",
       "        <td>Belarus</td>\n",
       "        <td>0.823</td>\n",
       "    </tr>\n",
       "</table>"
      ],
      "text/plain": [
       "[('Andean Community', '0.781'),\n",
       " ('Andorra', '0.868'),\n",
       " ('Uruguay', '0.817'),\n",
       " ('Uzbekistan', '0.72'),\n",
       " ('Vanuatu', '0.609'),\n",
       " ('Venezuela', '0.711'),\n",
       " ('Vietnam', '0.704'),\n",
       " ('Wales', '0.901'),\n",
       " ('Democratic Republic of Afghanistan', '0.316'),\n",
       " ('Democratic Republic of the Congo', '0.48'),\n",
       " ('Denmark', '0.94'),\n",
       " ('Djibouti', '0.524'),\n",
       " ('National Reorganization Process', '0.665'),\n",
       " ('Albania', '0.795'),\n",
       " ('Algeria', '0.748'),\n",
       " ('Australia', '0.944'),\n",
       " ('Austria', '0.922'),\n",
       " ('Autonomous Region of Bougainville', '0.595'),\n",
       " ('Azerbaijan', '0.756'),\n",
       " ('Belarus', '0.823')]"
      ]
     },
     "execution_count": 23,
     "metadata": {},
     "output_type": "execute_result"
    }
   ],
   "source": [
    "%%sql\n",
    "\n",
    "select * from hdi limit 20;"
   ]
  },
  {
   "cell_type": "markdown",
   "metadata": {},
   "source": [
    "### Combining the data"
   ]
  },
  {
   "cell_type": "markdown",
   "metadata": {},
   "source": [
    "Through a join statement, the gathered data gets combined in the next step. The join combines the data by looking at the matching country names from the data in the CSV file and the data from the SPARQL query. "
   ]
  },
  {
   "cell_type": "code",
   "execution_count": 24,
   "metadata": {},
   "outputs": [
    {
     "name": "stdout",
     "output_type": "stream",
     "text": [
      " * sqlite:///wdi_sea.db\n",
      "Done.\n",
      "Done.\n"
     ]
    },
    {
     "data": {
      "text/plain": [
       "[]"
      ]
     },
     "execution_count": 24,
     "metadata": {},
     "output_type": "execute_result"
    }
   ],
   "source": [
    "%%sql\n",
    "drop view if exists ehdi;\n",
    "create view ehdi as\n",
    "select country, hdi, \"2020 [YR2020]\" as electr\n",
    "from wdi_sea join hdi on wdi_sea.\"Country Name\" = hdi.country;"
   ]
  },
  {
   "cell_type": "code",
   "execution_count": 25,
   "metadata": {},
   "outputs": [
    {
     "name": "stdout",
     "output_type": "stream",
     "text": [
      " * sqlite:///wdi_sea.db\n",
      "Done.\n"
     ]
    },
    {
     "data": {
      "text/html": [
       "<table>\n",
       "    <tr>\n",
       "        <th>country</th>\n",
       "        <th>hdi</th>\n",
       "        <th>electr</th>\n",
       "    </tr>\n",
       "    <tr>\n",
       "        <td>Indonesia</td>\n",
       "        <td>0.718</td>\n",
       "        <td>96.9499969482422</td>\n",
       "    </tr>\n",
       "    <tr>\n",
       "        <td>Singapore</td>\n",
       "        <td>0.938</td>\n",
       "        <td>100.0</td>\n",
       "    </tr>\n",
       "    <tr>\n",
       "        <td>Thailand</td>\n",
       "        <td>0.777</td>\n",
       "        <td>100.0</td>\n",
       "    </tr>\n",
       "    <tr>\n",
       "        <td>Vietnam</td>\n",
       "        <td>0.704</td>\n",
       "        <td>100.0</td>\n",
       "    </tr>\n",
       "    <tr>\n",
       "        <td>Cambodia</td>\n",
       "        <td>0.594</td>\n",
       "        <td>86.4000015258789</td>\n",
       "    </tr>\n",
       "    <tr>\n",
       "        <td>Philippines</td>\n",
       "        <td>0.718</td>\n",
       "        <td>96.8423843383789</td>\n",
       "    </tr>\n",
       "    <tr>\n",
       "        <td>Malaysia</td>\n",
       "        <td>0.81</td>\n",
       "        <td>100.0</td>\n",
       "    </tr>\n",
       "    <tr>\n",
       "        <td>Laos</td>\n",
       "        <td>0.613</td>\n",
       "        <td>100.0</td>\n",
       "    </tr>\n",
       "    <tr>\n",
       "        <td>Myanmar</td>\n",
       "        <td>0.583</td>\n",
       "        <td>70.3971939086914</td>\n",
       "    </tr>\n",
       "    <tr>\n",
       "        <td>Brunei</td>\n",
       "        <td>0.838</td>\n",
       "        <td>100.0</td>\n",
       "    </tr>\n",
       "    <tr>\n",
       "        <td>East Timor</td>\n",
       "        <td>0.606</td>\n",
       "        <td>96.1233139038086</td>\n",
       "    </tr>\n",
       "</table>"
      ],
      "text/plain": [
       "[('Indonesia', '0.718', 96.9499969482422),\n",
       " ('Singapore', '0.938', 100.0),\n",
       " ('Thailand', '0.777', 100.0),\n",
       " ('Vietnam', '0.704', 100.0),\n",
       " ('Cambodia', '0.594', 86.4000015258789),\n",
       " ('Philippines', '0.718', 96.8423843383789),\n",
       " ('Malaysia', '0.81', 100.0),\n",
       " ('Laos', '0.613', 100.0),\n",
       " ('Myanmar', '0.583', 70.3971939086914),\n",
       " ('Brunei', '0.838', 100.0),\n",
       " ('East Timor', '0.606', 96.1233139038086)]"
      ]
     },
     "execution_count": 25,
     "metadata": {},
     "output_type": "execute_result"
    }
   ],
   "source": [
    "%sql select * from ehdi;"
   ]
  },
  {
   "cell_type": "code",
   "execution_count": 26,
   "metadata": {},
   "outputs": [],
   "source": [
    "df = pandas.read_sql_query(\"SELECT hdi, electr FROM ehdi\", conn)"
   ]
  },
  {
   "cell_type": "markdown",
   "metadata": {},
   "source": [
    "Now it is interesting to calculate the correlation between the two variables. With a result of about 0.6, one speaks of a moderate correlation."
   ]
  },
  {
   "cell_type": "code",
   "execution_count": 27,
   "metadata": {},
   "outputs": [
    {
     "data": {
      "text/plain": [
       "0.5820109865616289"
      ]
     },
     "execution_count": 27,
     "metadata": {},
     "output_type": "execute_result"
    }
   ],
   "source": [
    "df[\"hdi\"].astype(\"float\").corr(df[\"electr\"])"
   ]
  },
  {
   "cell_type": "markdown",
   "metadata": {},
   "source": [
    "### Inclusion of an additional factor"
   ]
  },
  {
   "cell_type": "markdown",
   "metadata": {},
   "source": [
    "Since the correlation was not so high in this case, we now look at another factor, namely GDP per capita. To do this, we simply repeat the steps shown earlier ."
   ]
  },
  {
   "cell_type": "code",
   "execution_count": 29,
   "metadata": {},
   "outputs": [],
   "source": [
    "import requests\n",
    "\n",
    "r = requests.get('https://raw.githubusercontent.com/tradybaby/wdisea/main/gdp_per_capita_sea_2020.csv')\n",
    "f = open('wdi_sea_gdp.csv', 'wb')\n",
    "f.write(r.content)\n",
    "f.close()"
   ]
  },
  {
   "cell_type": "code",
   "execution_count": 30,
   "metadata": {},
   "outputs": [],
   "source": [
    "%reload_ext sql"
   ]
  },
  {
   "cell_type": "code",
   "execution_count": 31,
   "metadata": {},
   "outputs": [],
   "source": [
    "%sql sqlite:///gdp.db"
   ]
  },
  {
   "cell_type": "code",
   "execution_count": 32,
   "metadata": {},
   "outputs": [],
   "source": [
    "import sqlite3\n",
    "import pandas\n",
    "conn = sqlite3.connect(\"gdp.db\")"
   ]
  },
  {
   "cell_type": "code",
   "execution_count": 33,
   "metadata": {},
   "outputs": [
    {
     "name": "stdout",
     "output_type": "stream",
     "text": [
      " * sqlite:///gdp.db\n",
      "   sqlite:///wdi_sea.db\n",
      "Done.\n"
     ]
    },
    {
     "data": {
      "text/plain": [
       "[]"
      ]
     },
     "execution_count": 33,
     "metadata": {},
     "output_type": "execute_result"
    }
   ],
   "source": [
    "%%sql\n",
    "\n",
    "drop table if exists gdp;"
   ]
  },
  {
   "cell_type": "code",
   "execution_count": 34,
   "metadata": {},
   "outputs": [
    {
     "data": {
      "text/plain": [
       "16"
      ]
     },
     "execution_count": 34,
     "metadata": {},
     "output_type": "execute_result"
    }
   ],
   "source": [
    "pandas.read_csv('wdi_sea_gdp.csv').to_sql('gdp', conn, index = False)"
   ]
  },
  {
   "cell_type": "code",
   "execution_count": 35,
   "metadata": {},
   "outputs": [
    {
     "name": "stdout",
     "output_type": "stream",
     "text": [
      " * sqlite:///gdp.db\n",
      "   sqlite:///wdi_sea.db\n",
      "Done.\n"
     ]
    },
    {
     "data": {
      "text/html": [
       "<table>\n",
       "    <tr>\n",
       "        <th>Country Name</th>\n",
       "        <th>Country Code</th>\n",
       "        <th>Series Name</th>\n",
       "        <th>Series Code</th>\n",
       "        <th>2020 [YR2020]</th>\n",
       "    </tr>\n",
       "    <tr>\n",
       "        <td>Indonesia</td>\n",
       "        <td>IDN</td>\n",
       "        <td>GDP per capita (current US$)</td>\n",
       "        <td>NY.GDP.PCAP.CD</td>\n",
       "        <td>3894.27220196922</td>\n",
       "    </tr>\n",
       "    <tr>\n",
       "        <td>Singapore</td>\n",
       "        <td>SGP</td>\n",
       "        <td>GDP per capita (current US$)</td>\n",
       "        <td>NY.GDP.PCAP.CD</td>\n",
       "        <td>60729.4503486794</td>\n",
       "    </tr>\n",
       "    <tr>\n",
       "        <td>Thailand</td>\n",
       "        <td>THA</td>\n",
       "        <td>GDP per capita (current US$)</td>\n",
       "        <td>NY.GDP.PCAP.CD</td>\n",
       "        <td>6990.93550262041</td>\n",
       "    </tr>\n",
       "    <tr>\n",
       "        <td>Vietnam</td>\n",
       "        <td>VNM</td>\n",
       "        <td>GDP per capita (current US$)</td>\n",
       "        <td>NY.GDP.PCAP.CD</td>\n",
       "        <td>3586.34730171843</td>\n",
       "    </tr>\n",
       "    <tr>\n",
       "        <td>Cambodia</td>\n",
       "        <td>KHM</td>\n",
       "        <td>GDP per capita (current US$)</td>\n",
       "        <td>NY.GDP.PCAP.CD</td>\n",
       "        <td>1577.91174726099</td>\n",
       "    </tr>\n",
       "    <tr>\n",
       "        <td>Philippines</td>\n",
       "        <td>PHL</td>\n",
       "        <td>GDP per capita (current US$)</td>\n",
       "        <td>NY.GDP.PCAP.CD</td>\n",
       "        <td>3224.42255131214</td>\n",
       "    </tr>\n",
       "    <tr>\n",
       "        <td>Malaysia</td>\n",
       "        <td>MYS</td>\n",
       "        <td>GDP per capita (current US$)</td>\n",
       "        <td>NY.GDP.PCAP.CD</td>\n",
       "        <td>10160.7832470071</td>\n",
       "    </tr>\n",
       "    <tr>\n",
       "        <td>Laos</td>\n",
       "        <td>LAO</td>\n",
       "        <td>GDP per capita (current US$)</td>\n",
       "        <td>NY.GDP.PCAP.CD</td>\n",
       "        <td>2593.35509719847</td>\n",
       "    </tr>\n",
       "    <tr>\n",
       "        <td>Myanmar</td>\n",
       "        <td>MMR</td>\n",
       "        <td>GDP per capita (current US$)</td>\n",
       "        <td>NY.GDP.PCAP.CD</td>\n",
       "        <td>1477.45287032594</td>\n",
       "    </tr>\n",
       "    <tr>\n",
       "        <td>Brunei</td>\n",
       "        <td>BRN</td>\n",
       "        <td>GDP per capita (current US$)</td>\n",
       "        <td>NY.GDP.PCAP.CD</td>\n",
       "        <td>27179.4119853371</td>\n",
       "    </tr>\n",
       "    <tr>\n",
       "        <td>East Timor</td>\n",
       "        <td>TLS</td>\n",
       "        <td>GDP per capita (current US$)</td>\n",
       "        <td>NY.GDP.PCAP.CD</td>\n",
       "        <td>1660.30833959898</td>\n",
       "    </tr>\n",
       "    <tr>\n",
       "        <td>None</td>\n",
       "        <td>None</td>\n",
       "        <td>None</td>\n",
       "        <td>None</td>\n",
       "        <td>None</td>\n",
       "    </tr>\n",
       "    <tr>\n",
       "        <td>None</td>\n",
       "        <td>None</td>\n",
       "        <td>None</td>\n",
       "        <td>None</td>\n",
       "        <td>None</td>\n",
       "    </tr>\n",
       "    <tr>\n",
       "        <td>None</td>\n",
       "        <td>None</td>\n",
       "        <td>None</td>\n",
       "        <td>None</td>\n",
       "        <td>None</td>\n",
       "    </tr>\n",
       "    <tr>\n",
       "        <td>Data from database: World Development Indicators</td>\n",
       "        <td>None</td>\n",
       "        <td>None</td>\n",
       "        <td>None</td>\n",
       "        <td>None</td>\n",
       "    </tr>\n",
       "    <tr>\n",
       "        <td>Last Updated: 12/22/2022</td>\n",
       "        <td>None</td>\n",
       "        <td>None</td>\n",
       "        <td>None</td>\n",
       "        <td>None</td>\n",
       "    </tr>\n",
       "</table>"
      ],
      "text/plain": [
       "[('Indonesia', 'IDN', 'GDP per capita (current US$)', 'NY.GDP.PCAP.CD', 3894.27220196922),\n",
       " ('Singapore', 'SGP', 'GDP per capita (current US$)', 'NY.GDP.PCAP.CD', 60729.4503486794),\n",
       " ('Thailand', 'THA', 'GDP per capita (current US$)', 'NY.GDP.PCAP.CD', 6990.93550262041),\n",
       " ('Vietnam', 'VNM', 'GDP per capita (current US$)', 'NY.GDP.PCAP.CD', 3586.34730171843),\n",
       " ('Cambodia', 'KHM', 'GDP per capita (current US$)', 'NY.GDP.PCAP.CD', 1577.91174726099),\n",
       " ('Philippines', 'PHL', 'GDP per capita (current US$)', 'NY.GDP.PCAP.CD', 3224.42255131214),\n",
       " ('Malaysia', 'MYS', 'GDP per capita (current US$)', 'NY.GDP.PCAP.CD', 10160.7832470071),\n",
       " ('Laos', 'LAO', 'GDP per capita (current US$)', 'NY.GDP.PCAP.CD', 2593.35509719847),\n",
       " ('Myanmar', 'MMR', 'GDP per capita (current US$)', 'NY.GDP.PCAP.CD', 1477.45287032594),\n",
       " ('Brunei', 'BRN', 'GDP per capita (current US$)', 'NY.GDP.PCAP.CD', 27179.4119853371),\n",
       " ('East Timor', 'TLS', 'GDP per capita (current US$)', 'NY.GDP.PCAP.CD', 1660.30833959898),\n",
       " (None, None, None, None, None),\n",
       " (None, None, None, None, None),\n",
       " (None, None, None, None, None),\n",
       " ('Data from database: World Development Indicators', None, None, None, None),\n",
       " ('Last Updated: 12/22/2022', None, None, None, None)]"
      ]
     },
     "execution_count": 35,
     "metadata": {},
     "output_type": "execute_result"
    }
   ],
   "source": [
    "%%sql\n",
    "\n",
    "select * from gdp;"
   ]
  },
  {
   "cell_type": "markdown",
   "metadata": {},
   "source": [
    "Here, too, the graphic analysis is very interesting. It becomes visible that GDP is extraordinarily high in Singapore. The other countries fluctuate around a lower value."
   ]
  },
  {
   "cell_type": "code",
   "execution_count": 36,
   "metadata": {},
   "outputs": [
    {
     "data": {
      "image/png": "[encoded data removed]",
      "text/plain": [
       "<Figure size 2160x720 with 1 Axes>"
      ]
     },
     "metadata": {
      "needs_background": "light"
     },
     "output_type": "display_data"
    }
   ],
   "source": [
    "%matplotlib inline\n",
    "import matplotlib.pyplot as plt\n",
    "import numpy as np\n",
    "import pandas as pd\n",
    "\n",
    "\n",
    "data = pd.read_csv('https://raw.githubusercontent.com/tradybaby/wdisea/main/gdp_per_capita_sea_2020.csv')\n",
    "df = pd.DataFrame(data)\n",
    "\n",
    "sorted_df = df.sort_values(by=['2020 [YR2020]'], ascending=False)\n",
    "sorted_df_head = sorted_df.head(11)\n",
    "\n",
    "X = list(sorted_df_head.iloc[:, 0])\n",
    "Y = list(sorted_df_head.iloc[:, 4])\n",
    "\n",
    "plt.rcParams['figure.figsize'] = (30, 10)\n",
    "plt.bar(X, Y, color='black')\n",
    "plt.title('GDP per capita in Southeast Asia in 2020', fontsize = 30)\n",
    "plt.xlabel('Country', fontsize = 25)\n",
    "plt.ylabel('GDP per capita (current US$)', fontsize = 25)\n",
    "plt.xticks(rotation = 90, fontsize = 20)\n",
    "plt.yticks(fontsize = 20)\n",
    "plt.show()"
   ]
  },
  {
   "cell_type": "code",
   "execution_count": 37,
   "metadata": {},
   "outputs": [],
   "source": [
    "f = open('wdi_sea_hdi.csv', 'w')\n",
    "f.write('country;hdi\\n')\n",
    "for res in countries['results']['bindings']:\n",
    "    f.write(res['country']['value'] + ';' + res['hdi']['value'] + '\\n')\n",
    "f.close()"
   ]
  },
  {
   "cell_type": "code",
   "execution_count": 38,
   "metadata": {},
   "outputs": [
    {
     "name": "stdout",
     "output_type": "stream",
     "text": [
      " * sqlite:///gdp.db\n",
      "   sqlite:///wdi_sea.db\n",
      "Done.\n"
     ]
    },
    {
     "data": {
      "text/plain": [
       "[]"
      ]
     },
     "execution_count": 38,
     "metadata": {},
     "output_type": "execute_result"
    }
   ],
   "source": [
    "%%sql\n",
    "\n",
    "drop table if exists hdi;"
   ]
  },
  {
   "cell_type": "code",
   "execution_count": null,
   "metadata": {},
   "outputs": [],
   "source": [
    "pandas.read_csv('wdi_sea_hdi.csv', delimiter=\";\").to_sql('hdi', conn, index = False)"
   ]
  },
  {
   "cell_type": "code",
   "execution_count": null,
   "metadata": {},
   "outputs": [],
   "source": [
    "%%sql\n",
    "\n",
    "select * from hdi limit 20;"
   ]
  },
  {
   "cell_type": "code",
   "execution_count": null,
   "metadata": {},
   "outputs": [],
   "source": [
    "%%sql\n",
    "drop view if exists gdphdi;\n",
    "create view gdphdi as\n",
    "select country, hdi, \"2020 [YR2020]\" as gdp\n",
    "from gdp join hdi on gdp.\"Country Name\" = hdi.country;"
   ]
  },
  {
   "cell_type": "code",
   "execution_count": null,
   "metadata": {},
   "outputs": [],
   "source": [
    "%sql select * from gdphdi;"
   ]
  },
  {
   "cell_type": "code",
   "execution_count": null,
   "metadata": {},
   "outputs": [],
   "source": [
    "df = pandas.read_sql_query(\"SELECT hdi, gdp FROM gdphdi\", conn)"
   ]
  },
  {
   "cell_type": "markdown",
   "metadata": {},
   "source": [
    "In this case, the correlation is very strongly evident with a value of approximately 0.8."
   ]
  },
  {
   "cell_type": "code",
   "execution_count": null,
   "metadata": {},
   "outputs": [],
   "source": [
    "df[\"hdi\"].astype(\"float\").corr(df[\"gdp\"])"
   ]
  },
  {
   "cell_type": "markdown",
   "metadata": {},
   "source": [
    "### Interpretation of data"
   ]
  },
  {
   "cell_type": "markdown",
   "metadata": {},
   "source": [
    "With this result, the situation can now be interpreted very well.\n",
    "\n",
    "**Countries with an HDI above 0.9 (extraordinarily high):**\n",
    "\n",
    "Singapore is known to be one of the most developed and richest countries in SEA and accordingly has a very high GDP and a very high HDI. Also 100% of the population have access to electricity.\n",
    "\n",
    "**Countries with an HDI above 0.8 (very high):**\n",
    "\n",
    "The comparison between Malaysia and Brunei is very interesting. The HDI is similar and both countries have 100% access to electricity but the GDP per capita is very different. Here it would be interesting to find out where the differences come from using a range of other indicators.\n",
    "\n",
    "**Countries with an HDI above 0.7 (high):**\n",
    "\n",
    "Indonesia, Thailand and the Philippines all have an HDI above 0.7, but Thailand has a GDP per capita almost twice as high as the other two countries. Does the lack of 100% access to electricity in Indonesia and the Philippines have anything to do with it?\n",
    "\n",
    "**Countries with an HDI above 0.55 (medium):**\n",
    "\n",
    "Cambodia, Laos and East Timor fall into this category. Cambodia has the lowest access to electricity of all countries in SEA and also the lowest HDI. GDP per capita is the second lowest after East Timor. Laos and East Timor also have very low GDP per capita but good to very good access to electricity.\n",
    "\n",
    "**Countries with an HDI under 0.549 (low):**\n",
    "\n",
    "No country in SEA has a HDI lower than 0.549."
   ]
  }
 ],
 "metadata": {
  "kernelspec": {
   "display_name": "Python 3",
   "language": "python",
   "name": "python3"
  },
  "language_info": {
   "codemirror_mode": {
    "name": "ipython",
    "version": 3
   },
   "file_extension": ".py",
   "mimetype": "text/x-python",
   "name": "python",
   "nbconvert_exporter": "python",
   "pygments_lexer": "ipython3",
   "version": "3.8.5"
  }
 },
 "nbformat": 4,
 "nbformat_minor": 5
}
